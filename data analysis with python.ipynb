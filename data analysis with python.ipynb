{
 "cells": [
  {
   "cell_type": "code",
   "execution_count": 1,
   "id": "ac1762cc",
   "metadata": {},
   "outputs": [],
   "source": [
    "import numpy as np \n",
    "import pandas as pd \n",
    "import matplotlib.pyplot as plt \n",
    "%matplotlib inline\n",
    "import seaborn as sns\n",
    "from sklearn.linear_model import LinearRegression "
   ]
  },
  {
   "cell_type": "code",
   "execution_count": 2,
   "id": "fc356ec5",
   "metadata": {},
   "outputs": [],
   "source": [
    "ds = pd.read_csv('ds_salaries.csv', encoding= 'unicode_escape')"
   ]
  },
  {
   "cell_type": "code",
   "execution_count": 3,
   "id": "b714ab6b",
   "metadata": {},
   "outputs": [
    {
     "data": {
      "text/plain": [
       "(3755, 12)"
      ]
     },
     "execution_count": 3,
     "metadata": {},
     "output_type": "execute_result"
    }
   ],
   "source": [
    "ds.shape "
   ]
  },
  {
   "cell_type": "code",
   "execution_count": 4,
   "id": "135e569f",
   "metadata": {},
   "outputs": [
    {
     "data": {
      "text/html": [
       "<div>\n",
       "<style scoped>\n",
       "    .dataframe tbody tr th:only-of-type {\n",
       "        vertical-align: middle;\n",
       "    }\n",
       "\n",
       "    .dataframe tbody tr th {\n",
       "        vertical-align: top;\n",
       "    }\n",
       "\n",
       "    .dataframe thead th {\n",
       "        text-align: right;\n",
       "    }\n",
       "</style>\n",
       "<table border=\"1\" class=\"dataframe\">\n",
       "  <thead>\n",
       "    <tr style=\"text-align: right;\">\n",
       "      <th></th>\n",
       "      <th>work_year</th>\n",
       "      <th>experience_level</th>\n",
       "      <th>employment_type</th>\n",
       "      <th>job_title</th>\n",
       "      <th>salary</th>\n",
       "      <th>salary_currency</th>\n",
       "      <th>salary_in_usd</th>\n",
       "      <th>employee_residence</th>\n",
       "      <th>remote_ratio</th>\n",
       "      <th>company_location</th>\n",
       "      <th>company_size</th>\n",
       "      <th>resident_area</th>\n",
       "    </tr>\n",
       "  </thead>\n",
       "  <tbody>\n",
       "    <tr>\n",
       "      <th>0</th>\n",
       "      <td>2023</td>\n",
       "      <td>SE</td>\n",
       "      <td>FT</td>\n",
       "      <td>Principal Data Scientist</td>\n",
       "      <td>80000</td>\n",
       "      <td>EUR</td>\n",
       "      <td>85847</td>\n",
       "      <td>ES</td>\n",
       "      <td>100</td>\n",
       "      <td>ES</td>\n",
       "      <td>L</td>\n",
       "      <td>NaN</td>\n",
       "    </tr>\n",
       "    <tr>\n",
       "      <th>1</th>\n",
       "      <td>2023</td>\n",
       "      <td>MI</td>\n",
       "      <td>CT</td>\n",
       "      <td>ML Engineer</td>\n",
       "      <td>30000</td>\n",
       "      <td>USD</td>\n",
       "      <td>30000</td>\n",
       "      <td>US</td>\n",
       "      <td>100</td>\n",
       "      <td>US</td>\n",
       "      <td>S</td>\n",
       "      <td>NaN</td>\n",
       "    </tr>\n",
       "    <tr>\n",
       "      <th>2</th>\n",
       "      <td>2023</td>\n",
       "      <td>MI</td>\n",
       "      <td>CT</td>\n",
       "      <td>ML Engineer</td>\n",
       "      <td>25500</td>\n",
       "      <td>USD</td>\n",
       "      <td>25500</td>\n",
       "      <td>US</td>\n",
       "      <td>100</td>\n",
       "      <td>US</td>\n",
       "      <td>S</td>\n",
       "      <td>NaN</td>\n",
       "    </tr>\n",
       "    <tr>\n",
       "      <th>3</th>\n",
       "      <td>2023</td>\n",
       "      <td>SE</td>\n",
       "      <td>FT</td>\n",
       "      <td>Data Scientist</td>\n",
       "      <td>175000</td>\n",
       "      <td>USD</td>\n",
       "      <td>175000</td>\n",
       "      <td>CA</td>\n",
       "      <td>100</td>\n",
       "      <td>CA</td>\n",
       "      <td>M</td>\n",
       "      <td>NaN</td>\n",
       "    </tr>\n",
       "    <tr>\n",
       "      <th>4</th>\n",
       "      <td>2023</td>\n",
       "      <td>SE</td>\n",
       "      <td>FT</td>\n",
       "      <td>Data Scientist</td>\n",
       "      <td>120000</td>\n",
       "      <td>USD</td>\n",
       "      <td>120000</td>\n",
       "      <td>CA</td>\n",
       "      <td>100</td>\n",
       "      <td>CA</td>\n",
       "      <td>M</td>\n",
       "      <td>NaN</td>\n",
       "    </tr>\n",
       "    <tr>\n",
       "      <th>5</th>\n",
       "      <td>2023</td>\n",
       "      <td>SE</td>\n",
       "      <td>FT</td>\n",
       "      <td>Applied Scientist</td>\n",
       "      <td>222200</td>\n",
       "      <td>USD</td>\n",
       "      <td>222200</td>\n",
       "      <td>US</td>\n",
       "      <td>0</td>\n",
       "      <td>US</td>\n",
       "      <td>L</td>\n",
       "      <td>NaN</td>\n",
       "    </tr>\n",
       "    <tr>\n",
       "      <th>6</th>\n",
       "      <td>2023</td>\n",
       "      <td>SE</td>\n",
       "      <td>FT</td>\n",
       "      <td>Applied Scientist</td>\n",
       "      <td>136000</td>\n",
       "      <td>USD</td>\n",
       "      <td>136000</td>\n",
       "      <td>US</td>\n",
       "      <td>0</td>\n",
       "      <td>US</td>\n",
       "      <td>L</td>\n",
       "      <td>NaN</td>\n",
       "    </tr>\n",
       "    <tr>\n",
       "      <th>7</th>\n",
       "      <td>2023</td>\n",
       "      <td>SE</td>\n",
       "      <td>FT</td>\n",
       "      <td>Data Scientist</td>\n",
       "      <td>219000</td>\n",
       "      <td>USD</td>\n",
       "      <td>219000</td>\n",
       "      <td>CA</td>\n",
       "      <td>0</td>\n",
       "      <td>CA</td>\n",
       "      <td>M</td>\n",
       "      <td>NaN</td>\n",
       "    </tr>\n",
       "    <tr>\n",
       "      <th>8</th>\n",
       "      <td>2023</td>\n",
       "      <td>SE</td>\n",
       "      <td>FT</td>\n",
       "      <td>Data Scientist</td>\n",
       "      <td>141000</td>\n",
       "      <td>USD</td>\n",
       "      <td>141000</td>\n",
       "      <td>CA</td>\n",
       "      <td>0</td>\n",
       "      <td>CA</td>\n",
       "      <td>M</td>\n",
       "      <td>NaN</td>\n",
       "    </tr>\n",
       "    <tr>\n",
       "      <th>9</th>\n",
       "      <td>2023</td>\n",
       "      <td>SE</td>\n",
       "      <td>FT</td>\n",
       "      <td>Data Scientist</td>\n",
       "      <td>147100</td>\n",
       "      <td>USD</td>\n",
       "      <td>147100</td>\n",
       "      <td>US</td>\n",
       "      <td>0</td>\n",
       "      <td>US</td>\n",
       "      <td>M</td>\n",
       "      <td>NaN</td>\n",
       "    </tr>\n",
       "  </tbody>\n",
       "</table>\n",
       "</div>"
      ],
      "text/plain": [
       "   work_year experience_level employment_type                 job_title  \\\n",
       "0       2023               SE              FT  Principal Data Scientist   \n",
       "1       2023               MI              CT               ML Engineer   \n",
       "2       2023               MI              CT               ML Engineer   \n",
       "3       2023               SE              FT            Data Scientist   \n",
       "4       2023               SE              FT            Data Scientist   \n",
       "5       2023               SE              FT         Applied Scientist   \n",
       "6       2023               SE              FT         Applied Scientist   \n",
       "7       2023               SE              FT            Data Scientist   \n",
       "8       2023               SE              FT            Data Scientist   \n",
       "9       2023               SE              FT            Data Scientist   \n",
       "\n",
       "   salary salary_currency  salary_in_usd employee_residence  remote_ratio  \\\n",
       "0   80000             EUR          85847                 ES           100   \n",
       "1   30000             USD          30000                 US           100   \n",
       "2   25500             USD          25500                 US           100   \n",
       "3  175000             USD         175000                 CA           100   \n",
       "4  120000             USD         120000                 CA           100   \n",
       "5  222200             USD         222200                 US             0   \n",
       "6  136000             USD         136000                 US             0   \n",
       "7  219000             USD         219000                 CA             0   \n",
       "8  141000             USD         141000                 CA             0   \n",
       "9  147100             USD         147100                 US             0   \n",
       "\n",
       "  company_location company_size  resident_area  \n",
       "0               ES            L            NaN  \n",
       "1               US            S            NaN  \n",
       "2               US            S            NaN  \n",
       "3               CA            M            NaN  \n",
       "4               CA            M            NaN  \n",
       "5               US            L            NaN  \n",
       "6               US            L            NaN  \n",
       "7               CA            M            NaN  \n",
       "8               CA            M            NaN  \n",
       "9               US            M            NaN  "
      ]
     },
     "execution_count": 4,
     "metadata": {},
     "output_type": "execute_result"
    }
   ],
   "source": [
    "ds.head(10)"
   ]
  },
  {
   "cell_type": "code",
   "execution_count": 5,
   "id": "a904c81a",
   "metadata": {},
   "outputs": [
    {
     "data": {
      "text/html": [
       "<div>\n",
       "<style scoped>\n",
       "    .dataframe tbody tr th:only-of-type {\n",
       "        vertical-align: middle;\n",
       "    }\n",
       "\n",
       "    .dataframe tbody tr th {\n",
       "        vertical-align: top;\n",
       "    }\n",
       "\n",
       "    .dataframe thead th {\n",
       "        text-align: right;\n",
       "    }\n",
       "</style>\n",
       "<table border=\"1\" class=\"dataframe\">\n",
       "  <thead>\n",
       "    <tr style=\"text-align: right;\">\n",
       "      <th></th>\n",
       "      <th>work_year</th>\n",
       "      <th>experience_level</th>\n",
       "      <th>employment_type</th>\n",
       "      <th>job_title</th>\n",
       "      <th>salary</th>\n",
       "      <th>salary_currency</th>\n",
       "      <th>salary_in_usd</th>\n",
       "      <th>employee_residence</th>\n",
       "      <th>remote_ratio</th>\n",
       "      <th>company_location</th>\n",
       "      <th>company_size</th>\n",
       "      <th>resident_area</th>\n",
       "    </tr>\n",
       "  </thead>\n",
       "  <tbody>\n",
       "    <tr>\n",
       "      <th>3750</th>\n",
       "      <td>2020</td>\n",
       "      <td>SE</td>\n",
       "      <td>FT</td>\n",
       "      <td>Data Scientist</td>\n",
       "      <td>412000</td>\n",
       "      <td>USD</td>\n",
       "      <td>412000</td>\n",
       "      <td>US</td>\n",
       "      <td>100</td>\n",
       "      <td>US</td>\n",
       "      <td>L</td>\n",
       "      <td>NaN</td>\n",
       "    </tr>\n",
       "    <tr>\n",
       "      <th>3751</th>\n",
       "      <td>2021</td>\n",
       "      <td>MI</td>\n",
       "      <td>FT</td>\n",
       "      <td>Principal Data Scientist</td>\n",
       "      <td>151000</td>\n",
       "      <td>USD</td>\n",
       "      <td>151000</td>\n",
       "      <td>US</td>\n",
       "      <td>100</td>\n",
       "      <td>US</td>\n",
       "      <td>L</td>\n",
       "      <td>NaN</td>\n",
       "    </tr>\n",
       "    <tr>\n",
       "      <th>3752</th>\n",
       "      <td>2020</td>\n",
       "      <td>EN</td>\n",
       "      <td>FT</td>\n",
       "      <td>Data Scientist</td>\n",
       "      <td>105000</td>\n",
       "      <td>USD</td>\n",
       "      <td>105000</td>\n",
       "      <td>US</td>\n",
       "      <td>100</td>\n",
       "      <td>US</td>\n",
       "      <td>S</td>\n",
       "      <td>NaN</td>\n",
       "    </tr>\n",
       "    <tr>\n",
       "      <th>3753</th>\n",
       "      <td>2020</td>\n",
       "      <td>EN</td>\n",
       "      <td>CT</td>\n",
       "      <td>Business Data Analyst</td>\n",
       "      <td>100000</td>\n",
       "      <td>USD</td>\n",
       "      <td>100000</td>\n",
       "      <td>US</td>\n",
       "      <td>100</td>\n",
       "      <td>US</td>\n",
       "      <td>L</td>\n",
       "      <td>NaN</td>\n",
       "    </tr>\n",
       "    <tr>\n",
       "      <th>3754</th>\n",
       "      <td>2021</td>\n",
       "      <td>SE</td>\n",
       "      <td>FT</td>\n",
       "      <td>Data Science Manager</td>\n",
       "      <td>7000000</td>\n",
       "      <td>INR</td>\n",
       "      <td>94665</td>\n",
       "      <td>IN</td>\n",
       "      <td>50</td>\n",
       "      <td>IN</td>\n",
       "      <td>L</td>\n",
       "      <td>NaN</td>\n",
       "    </tr>\n",
       "  </tbody>\n",
       "</table>\n",
       "</div>"
      ],
      "text/plain": [
       "      work_year experience_level employment_type                 job_title  \\\n",
       "3750       2020               SE              FT            Data Scientist   \n",
       "3751       2021               MI              FT  Principal Data Scientist   \n",
       "3752       2020               EN              FT            Data Scientist   \n",
       "3753       2020               EN              CT     Business Data Analyst   \n",
       "3754       2021               SE              FT      Data Science Manager   \n",
       "\n",
       "       salary salary_currency  salary_in_usd employee_residence  remote_ratio  \\\n",
       "3750   412000             USD         412000                 US           100   \n",
       "3751   151000             USD         151000                 US           100   \n",
       "3752   105000             USD         105000                 US           100   \n",
       "3753   100000             USD         100000                 US           100   \n",
       "3754  7000000             INR          94665                 IN            50   \n",
       "\n",
       "     company_location company_size  resident_area  \n",
       "3750               US            L            NaN  \n",
       "3751               US            L            NaN  \n",
       "3752               US            S            NaN  \n",
       "3753               US            L            NaN  \n",
       "3754               IN            L            NaN  "
      ]
     },
     "execution_count": 5,
     "metadata": {},
     "output_type": "execute_result"
    }
   ],
   "source": [
    "ds.tail()"
   ]
  },
  {
   "cell_type": "code",
   "execution_count": 6,
   "id": "b6e7a5a5",
   "metadata": {},
   "outputs": [
    {
     "name": "stdout",
     "output_type": "stream",
     "text": [
      "<class 'pandas.core.frame.DataFrame'>\n",
      "RangeIndex: 3755 entries, 0 to 3754\n",
      "Data columns (total 12 columns):\n",
      " #   Column              Non-Null Count  Dtype  \n",
      "---  ------              --------------  -----  \n",
      " 0   work_year           3755 non-null   int64  \n",
      " 1   experience_level    3755 non-null   object \n",
      " 2   employment_type     3755 non-null   object \n",
      " 3   job_title           3755 non-null   object \n",
      " 4   salary              3755 non-null   int64  \n",
      " 5   salary_currency     3755 non-null   object \n",
      " 6   salary_in_usd       3755 non-null   int64  \n",
      " 7   employee_residence  3755 non-null   object \n",
      " 8   remote_ratio        3755 non-null   int64  \n",
      " 9   company_location    3755 non-null   object \n",
      " 10  company_size        3755 non-null   object \n",
      " 11  resident_area       0 non-null      float64\n",
      "dtypes: float64(1), int64(4), object(7)\n",
      "memory usage: 352.2+ KB\n"
     ]
    }
   ],
   "source": [
    "ds.info()"
   ]
  },
  {
   "cell_type": "code",
   "execution_count": 7,
   "id": "0cbfce04",
   "metadata": {},
   "outputs": [],
   "source": [
    "ds.drop(['salary','resident_area'], axis=1, inplace=True)"
   ]
  },
  {
   "cell_type": "code",
   "execution_count": 8,
   "id": "9824718e",
   "metadata": {},
   "outputs": [
    {
     "name": "stdout",
     "output_type": "stream",
     "text": [
      "<class 'pandas.core.frame.DataFrame'>\n",
      "RangeIndex: 3755 entries, 0 to 3754\n",
      "Data columns (total 10 columns):\n",
      " #   Column              Non-Null Count  Dtype \n",
      "---  ------              --------------  ----- \n",
      " 0   work_year           3755 non-null   int64 \n",
      " 1   experience_level    3755 non-null   object\n",
      " 2   employment_type     3755 non-null   object\n",
      " 3   job_title           3755 non-null   object\n",
      " 4   salary_currency     3755 non-null   object\n",
      " 5   salary_in_usd       3755 non-null   int64 \n",
      " 6   employee_residence  3755 non-null   object\n",
      " 7   remote_ratio        3755 non-null   int64 \n",
      " 8   company_location    3755 non-null   object\n",
      " 9   company_size        3755 non-null   object\n",
      "dtypes: int64(3), object(7)\n",
      "memory usage: 293.5+ KB\n"
     ]
    }
   ],
   "source": [
    "ds.info()"
   ]
  },
  {
   "cell_type": "code",
   "execution_count": 9,
   "id": "98b347bb",
   "metadata": {},
   "outputs": [
    {
     "data": {
      "text/plain": [
       "work_year             0\n",
       "experience_level      0\n",
       "employment_type       0\n",
       "job_title             0\n",
       "salary_currency       0\n",
       "salary_in_usd         0\n",
       "employee_residence    0\n",
       "remote_ratio          0\n",
       "company_location      0\n", 
       "company_size          0\n",
       "dtype: int64"
      ]
     },
     "execution_count": 9,
     "metadata": {},
     "output_type": "execute_result"
    }
   ],
   "source": [
    "ds.isnull().sum()"
   ]
  },
  {
   "cell_type": "code",
   "execution_count": 10,
   "id": "201a777d",
   "metadata": {},
   "outputs": [
    {
     "data": {
      "text/plain": [
       "Index(['work_year', 'experience_level', 'employment_type', 'job_title',\n",
       "       'salary_currency', 'salary_in_usd', 'employee_residence',\n",
       "       'remote_ratio', 'company_location', 'company_size'],\n",
       "      dtype='object')"
      ]
     },
     "execution_count": 10,
     "metadata": {},
     "output_type": "execute_result"
    }
   ],
   "source": [
    "ds.columns"
   ]
  },
  {
   "cell_type": "code",
   "execution_count": 11,
   "id": "79314e00",
   "metadata": {},
   "outputs": [
    {
     "data": {
      "text/plain": [
       "count      3755.000000\n",
       "mean     137570.389880\n",
       "std       63055.625278\n",
       "min        5132.000000\n",
       "25%       95000.000000\n",
       "50%      135000.000000\n",
       "75%      175000.000000\n",
       "max      450000.000000\n",
       "Name: salary_in_usd, dtype: float64"
      ]
     },
     "execution_count": 11,
     "metadata": {},
     "output_type": "execute_result"
    }
   ],
   "source": [
    "ds['salary_in_usd'].describe()"
   ]
  },
  {
   "cell_type": "markdown",
   "id": "925dffdb",
   "metadata": {},
   "source": [
    "# Exploratory Data Analysis"
   ]
  },
  {
   "cell_type": "code",
   "execution_count": 12,
   "id": "fb7ecfbd",
   "metadata": {},
   "outputs": [
    {
     "data": {
      "image/png": "[encoded data removed]",
      "text/plain": [
       "<Figure size 432x288 with 1 Axes>"
      ]
     },
     "metadata": {
      "needs_background": "light"
     },
     "output_type": "display_data"
    }
   ],
   "source": [
    "et = sns.countplot(x = 'employment_type', data=ds)\n",
    "sns.set(rc={'figure.figsize':(15,6)})\n",
    "for bars in et.containers:\n",
    "    et.bar_label(bars)"
   ]
  },
  {
   "cell_type": "markdown",
   "id": "ee09c572",
   "metadata": {},
   "source": [
    "from above graphs, we can conclude that most of the employs are FT "
   ]
  },
  {
   "cell_type": "code",
   "execution_count": 13,
   "id": "a8350e95",
   "metadata": {},
   "outputs": [
    {
     "data": {
      "image/png": "[encoded data removed]",
      "text/plain": [
       "<Figure size 1080x432 with 1 Axes>"
      ]
     },
     "metadata": {},
     "output_type": "display_data"
    }
   ],
   "source": [
    "salary= 'salary_currency'\n",
    "listt=ds[salary].value_counts()\n",
    "firstt=listt.head(3)\n",
    "rest=listt.iloc[3:].sum()\n",
    "firstt['others']=rest\n",
    "plt.figure(figsize=(15, 6))\n",
    "firstt.plot(kind='bar')\n",
    "\n",
    "plt.xlabel('Salary Currency')\n",
    "plt.ylabel('Count')\n",
    "plt.title('Distribution of Salary Currencies')\n",
    "\n",
    "plt.show()"
   ]
  },
  {
   "cell_type": "code",
   "execution_count": 14,
   "id": "233af9e8",
   "metadata": {},
   "outputs": [
    {
     "data": {
      "image/png": "[encoded data removed]",
      "text/plain": [
       "<Figure size 1080x432 with 1 Axes>"
      ]
     },
     "metadata": {},
     "output_type": "display_data"
    }
   ],
   "source": [
    "ax = sns.countplot(data=ds, x = 'remote_ratio' )\n",
    "sns.set(rc={'figure.figsize':(15,6)})\n",
    "for bars in ax.containers:\n",
    "    ax.bar_label(bars)"
   ]
  },
  {
   "cell_type": "code",
   "execution_count": 15,
   "id": "95e77caf",
   "metadata": {},
   "outputs": [
    {
     "data": {
      "text/plain": [
       "<AxesSubplot:xlabel='company_size', ylabel='salary_in_usd'>"
      ]
     },
     "execution_count": 15,
     "metadata": {},
     "output_type": "execute_result"
    },
    {
     "data": {
      "image/png": "[encoded data removed]",
      "text/plain": [
       "<Figure size 1080x432 with 1 Axes>"
      ]
     },
     "metadata": {},
     "output_type": "display_data"
    }
   ],
   "source": [
    "ype_salary = ds.groupby(['company_size'], as_index=False)['salary_in_usd'].sum().sort_values(by='salary_in_usd', ascending=False)\n",
    "sns.set(rc={'figure.figsize':(15,6)})\n",
    "\n",
    "sns.barplot(x = 'company_size',y= 'salary_in_usd' ,data = ype_salary)"
   ]
  },
  {
   "cell_type": "code",
   "execution_count": 16,
   "id": "15baf582",
   "metadata": {},
   "outputs": [
    {
     "data": {
      "text/plain": [
       "<AxesSubplot:xlabel='company_location', ylabel='salary_in_usd'>"
      ]
     },
     "execution_count": 16,
     "metadata": {},
     "output_type": "execute_result"
    },
    {
     "data": {
      "image/png": "[encoded data removed]",
      "text/plain": [
       "<Figure size 1080x432 with 1 Axes>"
      ]
     },
     "metadata": {},
     "output_type": "display_data"
    }
   ],
   "source": [
    "ye_salary = ds.groupby(['company_location'], as_index=False)['salary_in_usd'].sum().sort_values(by='salary_in_usd', ascending=False).head(5)\n",
    "sns.set(rc={'figure.figsize':(15,6)})\n",
    "\n",
    "sns.barplot(x = 'company_location',y= 'salary_in_usd' ,data = ye_salary)"
   ]
  },
  {
   "cell_type": "code",
   "execution_count": 17,
   "id": "782a07f9",
   "metadata": {},
   "outputs": [
    {
     "data": {
      "image/png": "[encoded data removed]",
      "text/plain": [
       "<Figure size 1080x432 with 1 Axes>"
      ]
     },
     "metadata": {},
     "output_type": "display_data"
    }
   ],
   "source": [
    "new_list='employee_residence'\n",
    "employ= ds[new_list].value_counts()\n",
    "top_results = employ.head(4)\n",
    "other_count = employ.iloc[4:].sum()\n",
    "top_results['Others'] = other_count\n",
    "\n",
    "plt.figure(figsize=(15, 6))\n",
    "top_results.plot(kind='bar')\n",
    "plt.xlabel('column_of_interest')\n",
    "plt.ylabel('Count')\n",
    "plt.title('Top 3 Results and Others')\n",
    "plt.show()"
   ]
  },
  {
   "cell_type": "code",
   "execution_count": 18,
   "id": "98ca242f",
   "metadata": {},
   "outputs": [
    {
     "data": {
      "text/plain": [
       "Text(0.5, 1.0, 'Distribution of Categories')"
      ]
     },
     "execution_count": 18,
     "metadata": {},
     "output_type": "execute_result"
    },
    {
     "data": {
      "image/png": "[encoded data removed]",
      "text/plain": [
       "<Figure size 576x792 with 1 Axes>"
      ]
     },
     "metadata": {},
     "output_type": "display_data"
    }
   ],
   "source": [
    "category_column = 'company_size' \n",
    "category_counts = ds[category_column].value_counts()\n",
    "plt.figure(figsize=(8, 11))\n",
    "plt.pie(category_counts, labels=category_counts.index, autopct='%1.1f%%')\n",
    "plt.title('Distribution of Categories')"
   ]
  },
  {
   "cell_type": "code",
   "execution_count": 19,
   "id": "6bdca3b6",
   "metadata": {},
   "outputs": [
    {
     "data": {
      "image/png": "[encoded data removed]",
      "text/plain": [
       "<Figure size 720x432 with 1 Axes>"
      ]
     },
     "metadata": {},
     "output_type": "display_data"
    }
   ],
   "source": [
    "columnnn = 'employee_residence' \n",
    "category_counts = ds[columnnn].value_counts()\n",
    "\n",
    "top_results = category_counts.head(3)\n",
    "other_count = category_counts.iloc[3:].sum()\n",
    "top_results['Others'] = other_count\n",
    "\n",
    "plt.figure(figsize=(10, 6))\n",
    "top_results.plot(kind='bar')\n",
    "plt.xlabel('column_of_interest')\n",
    "plt.ylabel('Count')\n",
    "plt.title('Top 3 Results and Others')\n",
    "\n",
    "plt.show()\n",
    "\n",
    "\n",
    "\n"
   ]
  },
  {
   "cell_type": "markdown",
   "id": "0578d56e",
   "metadata": {},
   "source": [
    "# Prediction \n",
    "using Regression"
   ]
  },
  {
   "cell_type": "code",
   "execution_count": 20,
   "id": "bb927f13",
   "metadata": {},
   "outputs": [],
   "source": [
    "\n",
    "lr=LinearRegression()\n",
    "\n",
    "\n",
    "u = pd.get_dummies(ds['job_title'])\n",
    "w = pd.get_dummies(ds['company_location'])\n",
    "v = pd.get_dummies(ds['experience_level'])\n",
    "x = pd.concat([u,v,w], axis=1)\n",
    "\n",
    "Y = ds['salary_in_usd']\n",
    "lr.fit(x, Y)\n",
    "Yhat=lr.predict(x)\n",
    "# print(lr.predict([[]]))"
   ]
  },
  {
   "cell_type": "code",
   "execution_count": 21,
   "id": "d67ad464",
   "metadata": {},
   "outputs": [
    {
     "data": {
      "text/plain": [
       "4.9037390416577894e+17"
      ]
     },
     "execution_count": 21,
     "metadata": {},
     "output_type": "execute_result"
    }
   ],
   "source": [
    "lr.intercept_"
   ]
  },
  {
   "cell_type": "code",
   "execution_count": 22,
   "id": "aa5b78b8",
   "metadata": {},
   "outputs": [
    {
     "data": {
      "text/plain": [
       "array([ 1.00968301e+14,  1.00968301e+14,  1.00968301e+14,  1.00968301e+14,\n",
       "        1.00968301e+14,  1.00968301e+14,  1.00968301e+14,  1.00968301e+14,\n",
       "        1.00968301e+14,  1.00968301e+14,  1.00968301e+14,  1.00968301e+14,\n",
       "        1.00968301e+14,  1.00968301e+14,  1.00968301e+14,  1.00968301e+14,\n",
       "        1.00968301e+14,  1.00968301e+14,  1.00968301e+14,  1.00968301e+14,\n",
       "        1.00968301e+14,  1.00968301e+14,  1.00968301e+14,  1.00968301e+14,\n",
       "        1.00968301e+14,  1.00968301e+14,  1.00968301e+14,  1.00968301e+14,\n",
       "        1.00968301e+14,  1.00968301e+14,  1.00968301e+14,  1.00968301e+14,\n",
       "        1.00968301e+14,  1.00968301e+14,  1.00968301e+14,  1.00968301e+14,\n",
       "        1.00968301e+14,  1.00968301e+14,  1.00968301e+14,  1.00968301e+14,\n",
       "        1.00968301e+14,  1.00968301e+14,  1.00968301e+14,  1.00968301e+14,\n",
       "        1.00968301e+14,  1.00968301e+14,  1.00968301e+14,  1.00968301e+14,\n",
       "        1.00968301e+14,  1.00968301e+14,  1.00968301e+14,  1.00968301e+14,\n",
       "        1.00968301e+14,  1.00968301e+14,  1.00968301e+14,  1.00968301e+14,\n",
       "        1.00968301e+14,  1.00968301e+14,  1.00968301e+14,  1.00968301e+14,\n",
       "        1.00968301e+14,  1.00968301e+14,  1.00968301e+14,  1.00968301e+14,\n",
       "        1.00968301e+14,  1.00968301e+14,  1.00968301e+14,  1.00968301e+14,\n",
       "        1.00968301e+14,  1.00968301e+14,  1.00968301e+14,  1.00968301e+14,\n",
       "        1.00968301e+14,  1.00968301e+14,  1.00968301e+14,  1.00968301e+14,\n",
       "        1.00968301e+14,  1.00968301e+14,  1.00968301e+14,  1.00968301e+14,\n",
       "        1.00968301e+14,  1.00968301e+14,  1.00968301e+14,  1.00968301e+14,\n",
       "        1.00968301e+14,  1.00968301e+14,  1.00968301e+14,  1.00968301e+14,\n",
       "        1.00968301e+14,  1.00968301e+14,  1.00968301e+14,  1.00968300e+14,\n",
       "        1.00968301e+14, -4.79412623e+17, -4.79412623e+17, -4.79412623e+17,\n",
       "       -4.79412623e+17, -1.10622495e+16, -1.10622495e+16, -1.10622495e+16,\n",
       "       -1.10622495e+16, -1.10622495e+16, -1.10622495e+16, -1.10622495e+16,\n",
       "       -1.10622495e+16, -1.10622495e+16, -1.10622495e+16, -1.10622495e+16,\n",
       "       -1.10622495e+16, -1.10622495e+16, -1.10622495e+16, -1.10622495e+16,\n",
       "       -1.10622495e+16, -1.10622495e+16, -1.10622495e+16, -1.10622495e+16,\n",
       "       -1.10622495e+16, -1.10622495e+16, -1.10622495e+16, -1.10622495e+16,\n",
       "       -1.10622495e+16, -1.10622495e+16, -1.10622495e+16, -1.10622495e+16,\n",
       "       -1.10622495e+16, -1.10622495e+16, -1.10622495e+16, -1.10622495e+16,\n",
       "       -1.10622495e+16, -1.10622495e+16, -1.10622495e+16, -1.10622495e+16,\n",
       "       -1.10622495e+16, -1.10622495e+16, -1.10622495e+16, -1.10622495e+16,\n",
       "       -1.10622495e+16, -1.10622495e+16, -1.10622495e+16, -1.10622495e+16,\n",
       "       -1.10622495e+16, -1.10622495e+16, -1.10622495e+16, -1.10622495e+16,\n",
       "       -1.10622495e+16, -1.10622495e+16, -1.10622495e+16, -1.10622495e+16,\n",
       "       -1.10622495e+16, -1.10622495e+16, -1.10622495e+16, -1.10622495e+16,\n",
       "       -1.10622495e+16, -1.10622495e+16, -1.10622495e+16, -1.10622495e+16,\n",
       "       -1.10622495e+16, -1.10622495e+16, -1.10622495e+16, -1.10622495e+16,\n",
       "       -1.10622495e+16, -1.10622495e+16, -1.10622495e+16, -1.10622495e+16,\n",
       "       -1.10622495e+16, -1.10622495e+16, -1.10622495e+16, -1.10622495e+16,\n",
       "       -1.10622495e+16])"
      ]
     },
     "execution_count": 22,
     "metadata": {},
     "output_type": "execute_result"
    }
   ],
   "source": [
    "lr.coef_"
   ]
  },
  {
   "cell_type": "code",
   "execution_count": 23,
   "id": "d396f67b",
   "metadata": {},
   "outputs": [
    {
     "name": "stderr",
     "output_type": "stream",
     "text": [
      "C:\\Users\\91799\\anaconda3\\lib\\site-packages\\seaborn\\distributions.py:2619: FutureWarning: `distplot` is a deprecated function and will be removed in a future version. Please adapt your code to use either `displot` (a figure-level function with similar flexibility) or `kdeplot` (an axes-level function for kernel density plots).\n",
      "  warnings.warn(msg, FutureWarning)\n",
      "C:\\Users\\91799\\anaconda3\\lib\\site-packages\\seaborn\\distributions.py:2619: FutureWarning: `distplot` is a deprecated function and will be removed in a future version. Please adapt your code to use either `displot` (a figure-level function with similar flexibility) or `kdeplot` (an axes-level function for kernel density plots).\n",
      "  warnings.warn(msg, FutureWarning)\n"
     ]
    },
    {
     "data": {
      "text/plain": [
       "<AxesSubplot:xlabel='salary_in_usd', ylabel='Density'>"
      ]
     },
     "execution_count": 23,
     "metadata": {},
     "output_type": "execute_result"
    },
    {
     "data": {
      "image/png": "[encoded data removed]",
      "text/plain": [
       "<Figure size 1080x432 with 1 Axes>"
      ]
     },
     "metadata": {},
     "output_type": "display_data"
    }
   ],
   "source": [
    "#ax1=sns.distplot(ds['salary_in_usd'], hist=False, color=\"r\", label=\"actual value\")\n",
    "\n",
    "#sns.distplot(Yhat, hist=False, color=\"b\", label=\"fitted value\", ax=ax1)"
   ]
  },
  
  {
   "cell_type": "code",
   "execution_count": 29,
   "id": "f0e7d006",
   "metadata": {},
   "outputs": [],
   "source": []
  },
  {
   "cell_type": "code",
   "execution_count": null,
   "id": "b25b4674",
   "metadata": {},
   "outputs": [],
   "source": []
  }
 ],
 "metadata": {
  "kernelspec": {
   "display_name": "Python 3 (ipykernel)",
   "language": "python",
   "name": "python3"
  },
  "language_info": {
   "codemirror_mode": {
    "name": "ipython",
    "version": 3
   },
   "file_extension": ".py",
   "mimetype": "text/x-python",
   "name": "python",
   "nbconvert_exporter": "python",
   "pygments_lexer": "ipython3",
   "version": "3.9.12"
  }
 },
 "nbformat": 4,
 "nbformat_minor": 5
}
